{
 "cells": [
  {
   "cell_type": "markdown",
   "metadata": {},
   "source": [
    "# Scrape Data from the web\n"
   ]
  },
  {
   "cell_type": "code",
   "execution_count": 1,
   "metadata": {},
   "outputs": [],
   "source": [
    "#import the beatifulSoup library to scrape our website\n",
    "from bs4 import  BeautifulSoup\n",
    "import requests\n",
    "#scrap wikipedia page about Anthropology\n",
    "url_Anth=\"https://ar.wikipedia.org/wiki/علم_الإنسان\"\n",
    "source_Anth=requests.get(url_Anth).content.decode('UTF-8')\n",
    "soup_Anth = BeautifulSoup(source_Anth,'html.parser') \n",
    "#find the class that has the informations we want to scrape\n",
    "text_Anth=soup_Anth.find(class_=\"mw-parser-output\")\n",
    "Anthropology_paragraphs=text_Anth.select(\"div[class=mw-parser-output] > p\")\n",
    "#create a List that contain our paragraphs with labels \n",
    "Anthropology_list=[]\n",
    "for i in Anthropology_paragraphs:\n",
    "    Anthropology_list.append([str(i.get_text()),\"Anthropology\"])\n"
   ]
  },
  {
   "cell_type": "code",
   "execution_count": 2,
   "metadata": {},
   "outputs": [],
   "source": [
    "#scrap e3arabi web page about Anthropology\n",
    "url_Anth=\"https://e3arabi.com/علم-الاجتماع/مفهوم-الانثروبولوجيا-وطبيعتها-واهمي\"\n",
    "source_Anth=requests.get(url_Anth).content.decode('UTF-8')\n",
    "soup_Anth = BeautifulSoup(source_Anth,'html.parser') \n",
    "#find the class that has the informations we want to scrape\n",
    "Anthropology_paragraphs=soup_Anth.select(\"div.entry-content.entry.clearfix > p\")\n",
    "#add the data to existing Anthropology list\n",
    "for i in Anthropology_paragraphs[1:]:\n",
    "    Anthropology_list.append([str(i.get_text()),\"Anthropology\"])"
   ]
  },
  {
   "cell_type": "code",
   "execution_count": 3,
   "metadata": {},
   "outputs": [],
   "source": [
    "#scrap feedo web page about Anthropology\n",
    "url_Anth=\"https://www.feedo.net/ScienceAndTechnology/Science/ScientificThinking/Anthropology.htm\"\n",
    "source_Anth=requests.get(url_Anth).content.decode('UTF-8')\n",
    "soup_Anth = BeautifulSoup(source_Anth,'html.parser') \n",
    "#find the class that has the informations we want to scrape\n",
    "text_Anth=soup_Anth.find(class_=\"body\")\n",
    "#delete picture tags from Data\n",
    "for i in text_Anth.select(\"td > p > picture\"):\n",
    "    i.extract()\n",
    "\n",
    "Anthropology_paragraphs=text_Anth.select(\"td > p\")\n",
    "#add the data to existing Anthropology list\n",
    "for i in Anthropology_paragraphs:\n",
    "    Anthropology_list.append([str(i.get_text()),\"Anthropology\"])"
   ]
  },
  {
   "cell_type": "code",
   "execution_count": 4,
   "metadata": {},
   "outputs": [
    {
     "data": {
      "text/plain": [
       "63"
      ]
     },
     "execution_count": 4,
     "metadata": {},
     "output_type": "execute_result"
    }
   ],
   "source": [
    "#count Anthropology paragraphs\n",
    "len(Anthropology_list)"
   ]
  },
  {
   "cell_type": "code",
   "execution_count": 5,
   "metadata": {},
   "outputs": [],
   "source": [
    "#scrap wikipedia page about Astronomy \n",
    "url_ast=\"https://ar.wikipedia.org/wiki/علم_الفلك\"\n",
    "source_ast =requests.get(url_ast).content.decode('UTF-8')\n",
    "soup_ast = BeautifulSoup(source_ast,'html.parser') \n",
    "#find the class that has the informations we want to scrape\n",
    "text_ast=soup_ast.find(id='bodyContent')\n",
    "paragraphs_ast=text_ast.select(\"div[class=mw-parser-output] > p\")\n",
    "Astronomy_list=[]\n",
    "#create a List that contain our astronomy paragraphs with labels \n",
    "for i in paragraphs_ast:\n",
    "    Astronomy_list.append([str(i.get_text()),'Astronomy'])"
   ]
  },
  {
   "cell_type": "code",
   "execution_count": 6,
   "metadata": {},
   "outputs": [
    {
     "data": {
      "text/plain": [
       "100"
      ]
     },
     "execution_count": 6,
     "metadata": {},
     "output_type": "execute_result"
    }
   ],
   "source": [
    "#count Astronomy paragraphs\n",
    "len(Astronomy_list)"
   ]
  },
  {
   "cell_type": "code",
   "execution_count": 7,
   "metadata": {},
   "outputs": [],
   "source": [
    "#concatenate astronomy and Anthropology Data \n",
    "Data=Anthropology_list+Astronomy_list"
   ]
  },
  {
   "cell_type": "code",
   "execution_count": 8,
   "metadata": {},
   "outputs": [
    {
     "data": {
      "text/plain": [
       "163"
      ]
     },
     "execution_count": 8,
     "metadata": {},
     "output_type": "execute_result"
    }
   ],
   "source": [
    "len(Data)"
   ]
  },
  {
   "cell_type": "code",
   "execution_count": 9,
   "metadata": {},
   "outputs": [],
   "source": [
    "import pandas as pd\n",
    "DataFrame=pd.DataFrame(Data,columns=['Content','Topic'])"
   ]
  },
  {
   "cell_type": "code",
   "execution_count": 10,
   "metadata": {},
   "outputs": [
    {
     "data": {
      "text/html": [
       "<div>\n",
       "<style scoped>\n",
       "    .dataframe tbody tr th:only-of-type {\n",
       "        vertical-align: middle;\n",
       "    }\n",
       "\n",
       "    .dataframe tbody tr th {\n",
       "        vertical-align: top;\n",
       "    }\n",
       "\n",
       "    .dataframe thead th {\n",
       "        text-align: right;\n",
       "    }\n",
       "</style>\n",
       "<table border=\"1\" class=\"dataframe\">\n",
       "  <thead>\n",
       "    <tr style=\"text-align: right;\">\n",
       "      <th></th>\n",
       "      <th>Content</th>\n",
       "      <th>Topic</th>\n",
       "    </tr>\n",
       "  </thead>\n",
       "  <tbody>\n",
       "    <tr>\n",
       "      <th>0</th>\n",
       "      <td>علم الإنسان أو الأنثروبولوجيا (بالإنجليزية: An...</td>\n",
       "      <td>Anthropology</td>\n",
       "    </tr>\n",
       "    <tr>\n",
       "      <th>1</th>\n",
       "      <td>يتفرع علم الإنسان إلى كل من علم الإنسان الاجتم...</td>\n",
       "      <td>Anthropology</td>\n",
       "    </tr>\n",
       "    <tr>\n",
       "      <th>2</th>\n",
       "      <td>يُعرَّف علم الإنسان العامّ بأنه:\\n</td>\n",
       "      <td>Anthropology</td>\n",
       "    </tr>\n",
       "    <tr>\n",
       "      <th>3</th>\n",
       "      <td>وهو ما يعني أن علم الإنسان هو علم الإنسان طبيع...</td>\n",
       "      <td>Anthropology</td>\n",
       "    </tr>\n",
       "    <tr>\n",
       "      <th>4</th>\n",
       "      <td>يقسم علم الإنسان إلى أربعة أقسام رئيسة من وجهة...</td>\n",
       "      <td>Anthropology</td>\n",
       "    </tr>\n",
       "    <tr>\n",
       "      <th>...</th>\n",
       "      <td>...</td>\n",
       "      <td>...</td>\n",
       "    </tr>\n",
       "    <tr>\n",
       "      <th>158</th>\n",
       "      <td>يلاحظ هواة علم الفلك مجموعة متنوعة من الأجسام ...</td>\n",
       "      <td>Astronomy</td>\n",
       "    </tr>\n",
       "    <tr>\n",
       "      <th>159</th>\n",
       "      <td>ويعمل معظم الهواة في الأطوال الموجية المرئية، ...</td>\n",
       "      <td>Astronomy</td>\n",
       "    </tr>\n",
       "    <tr>\n",
       "      <th>160</th>\n",
       "      <td>واستمر الفلكيين الهواة في تقديم إسهامات علمية ...</td>\n",
       "      <td>Astronomy</td>\n",
       "    </tr>\n",
       "    <tr>\n",
       "      <th>161</th>\n",
       "      <td>مع أن النظام العلمي لعلم الفلك قد خطى خطوات ها...</td>\n",
       "      <td>Astronomy</td>\n",
       "    </tr>\n",
       "    <tr>\n",
       "      <th>162</th>\n",
       "      <td>خلال الجمعية العامة رقم 62 للأمم المتحدة، أعلن...</td>\n",
       "      <td>Astronomy</td>\n",
       "    </tr>\n",
       "  </tbody>\n",
       "</table>\n",
       "<p>163 rows × 2 columns</p>\n",
       "</div>"
      ],
      "text/plain": [
       "                                               Content         Topic\n",
       "0    علم الإنسان أو الأنثروبولوجيا (بالإنجليزية: An...  Anthropology\n",
       "1    يتفرع علم الإنسان إلى كل من علم الإنسان الاجتم...  Anthropology\n",
       "2                   يُعرَّف علم الإنسان العامّ بأنه:\\n  Anthropology\n",
       "3    وهو ما يعني أن علم الإنسان هو علم الإنسان طبيع...  Anthropology\n",
       "4    يقسم علم الإنسان إلى أربعة أقسام رئيسة من وجهة...  Anthropology\n",
       "..                                                 ...           ...\n",
       "158  يلاحظ هواة علم الفلك مجموعة متنوعة من الأجسام ...     Astronomy\n",
       "159  ويعمل معظم الهواة في الأطوال الموجية المرئية، ...     Astronomy\n",
       "160  واستمر الفلكيين الهواة في تقديم إسهامات علمية ...     Astronomy\n",
       "161  مع أن النظام العلمي لعلم الفلك قد خطى خطوات ها...     Astronomy\n",
       "162  خلال الجمعية العامة رقم 62 للأمم المتحدة، أعلن...     Astronomy\n",
       "\n",
       "[163 rows x 2 columns]"
      ]
     },
     "execution_count": 10,
     "metadata": {},
     "output_type": "execute_result"
    }
   ],
   "source": [
    "DataFrame"
   ]
  },
  {
   "cell_type": "code",
   "execution_count": 11,
   "metadata": {},
   "outputs": [
    {
     "data": {
      "text/plain": [
       "<matplotlib.axes._subplots.AxesSubplot at 0x1f8f73653c8>"
      ]
     },
     "execution_count": 11,
     "metadata": {},
     "output_type": "execute_result"
    },
    {
     "data": {
      "image/png": "[encoded data removed]",
      "text/plain": [
       "<Figure size 432x288 with 1 Axes>"
      ]
     },
     "metadata": {
      "needs_background": "light"
     },
     "output_type": "display_data"
    }
   ],
   "source": [
    "import seaborn as sns\n",
    "sns.countplot(x='Topic',data = DataFrame)"
   ]
  },
  {
   "cell_type": "markdown",
   "metadata": {},
   "source": [
    "# Save Data to a CSV file"
   ]
  },
  {
   "cell_type": "code",
   "execution_count": 12,
   "metadata": {},
   "outputs": [],
   "source": [
    "DataFrame.to_csv('nlpdata.csv', index=False)"
   ]
  }
 ],
 "metadata": {
  "kernelspec": {
   "display_name": "Python 3",
   "language": "python",
   "name": "python3"
  },
  "language_info": {
   "codemirror_mode": {
    "name": "ipython",
    "version": 3
   },
   "file_extension": ".py",
   "mimetype": "text/x-python",
   "name": "python",
   "nbconvert_exporter": "python",
   "pygments_lexer": "ipython3",
   "version": "3.7.6"
  }
 },
 "nbformat": 4,
 "nbformat_minor": 4
}
